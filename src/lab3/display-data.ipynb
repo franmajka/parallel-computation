{
 "cells": [
  {
   "cell_type": "code",
   "execution_count": 11,
   "metadata": {},
   "outputs": [],
   "source": [
    "import pandas as pd\n",
    "import matplotlib.pyplot as plt"
   ]
  },
  {
   "cell_type": "code",
   "execution_count": 12,
   "metadata": {},
   "outputs": [
    {
     "data": {
      "text/html": [
       "<div>\n",
       "<style scoped>\n",
       "    .dataframe tbody tr th:only-of-type {\n",
       "        vertical-align: middle;\n",
       "    }\n",
       "\n",
       "    .dataframe tbody tr th {\n",
       "        vertical-align: top;\n",
       "    }\n",
       "\n",
       "    .dataframe thead th {\n",
       "        text-align: right;\n",
       "    }\n",
       "</style>\n",
       "<table border=\"1\" class=\"dataframe\">\n",
       "  <thead>\n",
       "    <tr style=\"text-align: right;\">\n",
       "      <th></th>\n",
       "      <th>name</th>\n",
       "      <th>arraySize</th>\n",
       "      <th>duration</th>\n",
       "    </tr>\n",
       "  </thead>\n",
       "  <tbody>\n",
       "    <tr>\n",
       "      <th>0</th>\n",
       "      <td>Single thread</td>\n",
       "      <td>100</td>\n",
       "      <td>0.006593</td>\n",
       "    </tr>\n",
       "    <tr>\n",
       "      <th>1</th>\n",
       "      <td>Multithread non blocking</td>\n",
       "      <td>100</td>\n",
       "      <td>0.667961</td>\n",
       "    </tr>\n",
       "    <tr>\n",
       "      <th>2</th>\n",
       "      <td>Multithread blocking</td>\n",
       "      <td>100</td>\n",
       "      <td>0.305115</td>\n",
       "    </tr>\n",
       "    <tr>\n",
       "      <th>3</th>\n",
       "      <td>Multithread atomic</td>\n",
       "      <td>100</td>\n",
       "      <td>0.296088</td>\n",
       "    </tr>\n",
       "    <tr>\n",
       "      <th>4</th>\n",
       "      <td>Single thread</td>\n",
       "      <td>1000</td>\n",
       "      <td>0.029162</td>\n",
       "    </tr>\n",
       "  </tbody>\n",
       "</table>\n",
       "</div>"
      ],
      "text/plain": [
       "                       name  arraySize  duration\n",
       "0             Single thread        100  0.006593\n",
       "1  Multithread non blocking        100  0.667961\n",
       "2      Multithread blocking        100  0.305115\n",
       "3        Multithread atomic        100  0.296088\n",
       "4             Single thread       1000  0.029162"
      ]
     },
     "execution_count": 12,
     "metadata": {},
     "output_type": "execute_result"
    }
   ],
   "source": [
    "stats = pd.read_csv('stats.csv')\n",
    "stats.head()"
   ]
  },
  {
   "cell_type": "code",
   "execution_count": 13,
   "metadata": {},
   "outputs": [
    {
     "data": {
      "text/html": [
       "<div>\n",
       "<style scoped>\n",
       "    .dataframe tbody tr th:only-of-type {\n",
       "        vertical-align: middle;\n",
       "    }\n",
       "\n",
       "    .dataframe tbody tr th {\n",
       "        vertical-align: top;\n",
       "    }\n",
       "\n",
       "    .dataframe thead th {\n",
       "        text-align: right;\n",
       "    }\n",
       "</style>\n",
       "<table border=\"1\" class=\"dataframe\">\n",
       "  <thead>\n",
       "    <tr style=\"text-align: right;\">\n",
       "      <th>name</th>\n",
       "      <th>Multithread atomic</th>\n",
       "      <th>Multithread blocking</th>\n",
       "      <th>Multithread non blocking</th>\n",
       "      <th>Single thread</th>\n",
       "    </tr>\n",
       "    <tr>\n",
       "      <th>arraySize</th>\n",
       "      <th></th>\n",
       "      <th></th>\n",
       "      <th></th>\n",
       "      <th></th>\n",
       "    </tr>\n",
       "  </thead>\n",
       "  <tbody>\n",
       "    <tr>\n",
       "      <th>100</th>\n",
       "      <td>0.296088</td>\n",
       "      <td>0.305115</td>\n",
       "      <td>0.667961</td>\n",
       "      <td>0.006593</td>\n",
       "    </tr>\n",
       "    <tr>\n",
       "      <th>1000</th>\n",
       "      <td>0.299839</td>\n",
       "      <td>0.308522</td>\n",
       "      <td>0.389766</td>\n",
       "      <td>0.029162</td>\n",
       "    </tr>\n",
       "    <tr>\n",
       "      <th>5000</th>\n",
       "      <td>0.361499</td>\n",
       "      <td>0.551512</td>\n",
       "      <td>0.365746</td>\n",
       "      <td>0.107035</td>\n",
       "    </tr>\n",
       "    <tr>\n",
       "      <th>10000</th>\n",
       "      <td>0.519599</td>\n",
       "      <td>1.034490</td>\n",
       "      <td>0.465383</td>\n",
       "      <td>0.210160</td>\n",
       "    </tr>\n",
       "    <tr>\n",
       "      <th>100000</th>\n",
       "      <td>1.603550</td>\n",
       "      <td>10.367200</td>\n",
       "      <td>1.187640</td>\n",
       "      <td>2.006690</td>\n",
       "    </tr>\n",
       "    <tr>\n",
       "      <th>1000000</th>\n",
       "      <td>7.774260</td>\n",
       "      <td>86.320900</td>\n",
       "      <td>5.817120</td>\n",
       "      <td>17.760100</td>\n",
       "    </tr>\n",
       "    <tr>\n",
       "      <th>100000000</th>\n",
       "      <td>726.476000</td>\n",
       "      <td>8257.660000</td>\n",
       "      <td>384.355000</td>\n",
       "      <td>1555.110000</td>\n",
       "    </tr>\n",
       "    <tr>\n",
       "      <th>200000000</th>\n",
       "      <td>1420.540000</td>\n",
       "      <td>16699.800000</td>\n",
       "      <td>769.173000</td>\n",
       "      <td>3119.390000</td>\n",
       "    </tr>\n",
       "    <tr>\n",
       "      <th>300000000</th>\n",
       "      <td>2130.960000</td>\n",
       "      <td>24883.000000</td>\n",
       "      <td>1333.000000</td>\n",
       "      <td>4554.480000</td>\n",
       "    </tr>\n",
       "  </tbody>\n",
       "</table>\n",
       "</div>"
      ],
      "text/plain": [
       "name       Multithread atomic  Multithread blocking  Multithread non blocking  \\\n",
       "arraySize                                                                       \n",
       "100                  0.296088              0.305115                  0.667961   \n",
       "1000                 0.299839              0.308522                  0.389766   \n",
       "5000                 0.361499              0.551512                  0.365746   \n",
       "10000                0.519599              1.034490                  0.465383   \n",
       "100000               1.603550             10.367200                  1.187640   \n",
       "1000000              7.774260             86.320900                  5.817120   \n",
       "100000000          726.476000           8257.660000                384.355000   \n",
       "200000000         1420.540000          16699.800000                769.173000   \n",
       "300000000         2130.960000          24883.000000               1333.000000   \n",
       "\n",
       "name       Single thread  \n",
       "arraySize                 \n",
       "100             0.006593  \n",
       "1000            0.029162  \n",
       "5000            0.107035  \n",
       "10000           0.210160  \n",
       "100000          2.006690  \n",
       "1000000        17.760100  \n",
       "100000000    1555.110000  \n",
       "200000000    3119.390000  \n",
       "300000000    4554.480000  "
      ]
     },
     "execution_count": 13,
     "metadata": {},
     "output_type": "execute_result"
    }
   ],
   "source": [
    "pivoted = stats.pivot_table(index='arraySize', columns='name', values='duration')\n",
    "pivoted"
   ]
  },
  {
   "cell_type": "code",
   "execution_count": 14,
   "metadata": {},
   "outputs": [
    {
     "data": {
      "image/png": "[encoded data removed]",
      "text/plain": [
       "<Figure size 640x480 with 1 Axes>"
      ]
     },
     "metadata": {},
     "output_type": "display_data"
    }
   ],
   "source": [
    "pivoted.plot()\n",
    "\n",
    "plt.ylabel('Duration (ms)')\n",
    "\n",
    "plt.show()"
   ]
  }
 ],
 "metadata": {
  "kernelspec": {
   "display_name": "Python 3",
   "language": "python",
   "name": "python3"
  },
  "language_info": {
   "codemirror_mode": {
    "name": "ipython",
    "version": 3
   },
   "file_extension": ".py",
   "mimetype": "text/x-python",
   "name": "python",
   "nbconvert_exporter": "python",
   "pygments_lexer": "ipython3",
   "version": "3.10.6"
  },
  "orig_nbformat": 4,
  "vscode": {
   "interpreter": {
    "hash": "916dbcbb3f70747c44a77c7bcd40155683ae19c65e1c03b4aa3499c5328201f1"
   }
  }
 },
 "nbformat": 4,
 "nbformat_minor": 2
}
